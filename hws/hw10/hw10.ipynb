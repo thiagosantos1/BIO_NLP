{
 "cells": [
  {
   "cell_type": "code",
   "execution_count": 1,
   "metadata": {},
   "outputs": [],
   "source": [
    "import pandas as pd\n",
    "import gensim.downloader as api\n",
    "from gensim.models import KeyedVectors\n",
    "from gensim.models import KeyedVectors, Word2Vec, phrases\n",
    "from gensim.parsing import preprocessing\n",
    "from gensim.parsing.preprocessing import strip_tags, strip_punctuation,strip_numeric,remove_stopwords\n",
    "import gensim\n",
    "import gensim.corpora as corpora\n",
    "from gensim.models import LdaModel\n",
    "from os import walk\n",
    "from os import listdir\n",
    "from os.path import isfile, join\n",
    "\n",
    "from pprint import pprint\n",
    "\n",
    "import pickle\n",
    "\n",
    "from matplotlib import pyplot as plt\n",
    "\n",
    "import numpy as np\n",
    "import seaborn as sns\n",
    "import matplotlib.colors as mcolors"
   ]
  },
  {
   "cell_type": "code",
   "execution_count": 2,
   "metadata": {},
   "outputs": [],
   "source": [
    "#  Clean data\n",
    "def text_cleaning(data):\n",
    "    new_sentences = []\n",
    "    filters = [lambda x: x.lower(), strip_tags, strip_punctuation,strip_numeric,remove_stopwords]\n",
    "    no_findings = []\n",
    "    for i in range(data.shape[0]):\n",
    "        txt = data.iloc[i]\n",
    "        c_words = []\n",
    "        words = preprocessing.preprocess_string(txt, filters)\n",
    "        for w in words:\n",
    "            if len(w)>3 :\n",
    "                c_words.append(w)\n",
    "            new_sentences.append(c_words)\n",
    "    \n",
    "    return new_sentences"
   ]
  },
  {
   "cell_type": "code",
   "execution_count": 3,
   "metadata": {},
   "outputs": [],
   "source": [
    "data = pd.read_csv(\"Breast_Cancer.csv\")['Text']\n",
    "sentences = text_cleaning(data)"
   ]
  },
  {
   "cell_type": "code",
   "execution_count": 4,
   "metadata": {},
   "outputs": [],
   "source": [
    "data = pd.read_csv(\"Breast_Cancer.csv\")['Text']\n",
    "sentences = text_cleaning(data)"
   ]
  },
  {
   "cell_type": "code",
   "execution_count": 5,
   "metadata": {},
   "outputs": [],
   "source": [
    "# create Bigrams\n",
    "bigram = gensim.models.Phrases(sentences) \n",
    "bigram_mod = gensim.models.phrases.Phraser(bigram)\n",
    "data_ready = [bigram_mod[doc] for doc in sentences]"
   ]
  },
  {
   "cell_type": "code",
   "execution_count": 6,
   "metadata": {},
   "outputs": [],
   "source": [
    "# Create Dictionary\n",
    "id2word = corpora.Dictionary(data_ready)\n",
    "\n",
    "# Create Corpus: Term Document Frequency\n",
    "corpus = [id2word.doc2bow(text) for text in data_ready]"
   ]
  },
  {
   "cell_type": "code",
   "execution_count": 13,
   "metadata": {},
   "outputs": [],
   "source": [
    "model_scratch = Word2Vec(workers=8,size=100, iter=10, min_count=1, \n",
    "                        window = 4, negative = 5) # create the model object\n",
    "\n",
    "\n",
    "model_tune = Word2Vec(workers=8,size=100, iter=10, min_count=1, \n",
    "                        window = 4, negative = 5) # create the model object\n",
    "    "
   ]
  },
  {
   "cell_type": "code",
   "execution_count": 14,
   "metadata": {},
   "outputs": [
    {
     "data": {
      "text/plain": [
       "94560"
      ]
     },
     "execution_count": 14,
     "metadata": {},
     "output_type": "execute_result"
    }
   ],
   "source": [
    "model_scratch.build_vocab(data_ready) \n",
    "total_examples = model_scratch.corpus_count\n",
    "total_examples"
   ]
  },
  {
   "cell_type": "code",
   "execution_count": 15,
   "metadata": {},
   "outputs": [
    {
     "data": {
      "text/plain": [
       "94560"
      ]
     },
     "execution_count": 15,
     "metadata": {},
     "output_type": "execute_result"
    }
   ],
   "source": [
    "model_tune.build_vocab(data_ready) \n",
    "total_examples = model_tune.corpus_count\n",
    "total_examples"
   ]
  },
  {
   "cell_type": "code",
   "execution_count": 16,
   "metadata": {},
   "outputs": [],
   "source": [
    "### train from scratch\n",
    "model_scratch.train(data_ready, total_examples=total_examples, epochs=200)\n",
    "model_scratch.save(\"w2vec_scratch.model\")"
   ]
  },
  {
   "cell_type": "code",
   "execution_count": 17,
   "metadata": {},
   "outputs": [],
   "source": [
    "# Load from drug-related w2vec\n",
    "path_tune = \"dms/trig-vectors-phrase.bin\"\n",
    "word_vectors = KeyedVectors.load_word2vec_format(path_tune, binary=True, encoding='utf8', unicode_errors='ignore')"
   ]
  },
  {
   "cell_type": "code",
   "execution_count": null,
   "metadata": {},
   "outputs": [],
   "source": [
    "# ------------------------------------------ #####"
   ]
  },
  {
   "cell_type": "code",
   "execution_count": 26,
   "metadata": {},
   "outputs": [
    {
     "data": {
      "text/plain": [
       "['exactly',\n",
       " 'chemo',\n",
       " 'want',\n",
       " 'awesome',\n",
       " 'marr_metastatic',\n",
       " 'surgery',\n",
       " 'return',\n",
       " 'care',\n",
       " 'jeopardy',\n",
       " 'stupid',\n",
       " 'told',\n",
       " 'osteoporosis_scan',\n",
       " 'went',\n",
       " 'true',\n",
       " 'fight',\n",
       " 'years',\n",
       " 'clear_margins',\n",
       " 'immune_compromising',\n",
       " 'letrozole_femara',\n",
       " 'tweets']"
      ]
     },
     "execution_count": 26,
     "metadata": {},
     "output_type": "execute_result"
    }
   ],
   "source": [
    "# Q1\n",
    "model_load = Word2Vec.load(\"w2vec_scratch.model\")\n",
    "similar = [x[0] for x in model_load.wv.most_similar(\"tamoxifen\",topn=20)]\n",
    "similar"
   ]
  },
  {
   "cell_type": "code",
   "execution_count": 55,
   "metadata": {},
   "outputs": [
    {
     "data": {
      "text/plain": [
       "['cyclosporine',\n",
       " 'arimidex',\n",
       " 'cyclophosphamide',\n",
       " 'oral_contraceptives',\n",
       " 'methotrexate_mtx',\n",
       " 'letrozole',\n",
       " 'dapsone',\n",
       " 'clomiphene',\n",
       " 'parlodel',\n",
       " 'oral_contraceptive',\n",
       " 'methatrexate',\n",
       " 'azathioprine_imuran',\n",
       " 'byetta',\n",
       " 'dexamethasone',\n",
       " 'methotraxate',\n",
       " 'sutent',\n",
       " 'immunosuppressant_drugs',\n",
       " 'carbergoline',\n",
       " 'postmenopausal_osteoporosis',\n",
       " 'tnf_inhibitors',\n",
       " 'sulphasalazine',\n",
       " 'aromatase_inhibitors',\n",
       " 'cyclosporin',\n",
       " 'cytoxan',\n",
       " 'cholesterol_lowering_drugs',\n",
       " 'nolvadex',\n",
       " 'valproate',\n",
       " 'lupron_depot',\n",
       " 'mesalazine',\n",
       " 'glyburide',\n",
       " 'mercaptopurine',\n",
       " 'neoral',\n",
       " 'nexavar',\n",
       " 'birth_control_pills',\n",
       " 'testosterone_replacement',\n",
       " 'evista',\n",
       " 'cimetidine',\n",
       " 'levothroid',\n",
       " 'moclobemide',\n",
       " 'azathioprine',\n",
       " 'glucophage',\n",
       " 'birth_control_pill',\n",
       " 'folinic_acid',\n",
       " 'injectible',\n",
       " 'cabergoline_dostinex',\n",
       " 'plaquenil_methotrexate',\n",
       " 'st_john’s_wort',\n",
       " 'corticosteroids',\n",
       " 'warfarin_coumadin',\n",
       " 'adriamycin',\n",
       " 'methrotrexate',\n",
       " 'raptiva',\n",
       " 'spironolactone',\n",
       " 'folfiri',\n",
       " 'purinethol',\n",
       " 'hydroxychloroquine',\n",
       " 'metformin_glucophage',\n",
       " 'kaletra',\n",
       " 'immune_suppressing',\n",
       " 'methyldopa',\n",
       " 'plaq',\n",
       " 'leflunomide',\n",
       " 'bone_marrow_suppression',\n",
       " 'gemcitabine',\n",
       " 'minocycline',\n",
       " 'mycophenolate',\n",
       " 'tamoxifin',\n",
       " 'procardia',\n",
       " 'leucovorin',\n",
       " 'gleevac',\n",
       " 'combivir',\n",
       " 'ocps',\n",
       " 'amiodarone',\n",
       " 'contra_indicated',\n",
       " 'bleomycin',\n",
       " 'danazol',\n",
       " 'sporanox',\n",
       " 'causes_birth_defects',\n",
       " 'injectable_medications',\n",
       " 'aygestin',\n",
       " 'cisplatin',\n",
       " 'interferon_alpha',\n",
       " 'monotherapy',\n",
       " 'anastrazole',\n",
       " 'remicade_humira',\n",
       " 'isentress',\n",
       " 'metaformin',\n",
       " 'oxaliplatin',\n",
       " 'neuroleptic',\n",
       " 'acetazolamide',\n",
       " 'immunosuppressants',\n",
       " 'rifampin',\n",
       " 'mesalamine',\n",
       " 'tnf_blockers',\n",
       " 'folfox',\n",
       " 'plaqunil',\n",
       " 'hormone_replacement_therapy',\n",
       " 'methotrexate_imuran',\n",
       " 'immunosuppressive_therapy',\n",
       " 'methotrexate']"
      ]
     },
     "execution_count": 55,
     "metadata": {},
     "output_type": "execute_result"
    }
   ],
   "source": [
    "# Q2 - Best ration 0.75 with 4 words - tamoxifin tamoxafin tamoxifan tomoxifen \n",
    "import Levenshtein\n",
    "similar = [x[0] for x in word_vectors.most_similar(\"tamoxifen\",topn=10000) ]\n",
    "similar[0:100]"
   ]
  },
  {
   "cell_type": "code",
   "execution_count": 43,
   "metadata": {},
   "outputs": [],
   "source": [
    "def get_mispelling(word, similar, ratio):\n",
    "    out = []\n",
    "    for w in similar:\n",
    "        lev_ratio = Levenshtein.ratio(word, w)\n",
    "        if lev_ratio > ratio:\n",
    "            out.append(w)\n",
    "    return out"
   ]
  },
  {
   "cell_type": "code",
   "execution_count": 48,
   "metadata": {},
   "outputs": [
    {
     "name": "stdout",
     "output_type": "stream",
     "text": [
      "tamoxifin cytoxin tamoxafin raloxifene tamox tamoxifan lanoxin tamsulosin tomoxifen amoxapine rutaxin amoxicilin amox tovaxin amoxcillin raloxifine amoxil amoxicllin amoxillin "
     ]
    }
   ],
   "source": [
    "words = get_mispelling(\"tamoxifen\", similar, 0.6)\n",
    "for w in words:\n",
    "    print(w, end=' ')"
   ]
  },
  {
   "cell_type": "code",
   "execution_count": 49,
   "metadata": {},
   "outputs": [
    {
     "name": "stdout",
     "output_type": "stream",
     "text": [
      "tamoxifin tamoxafin raloxifene tamox tamoxifan tomoxifen "
     ]
    }
   ],
   "source": [
    "words = get_mispelling(\"tamoxifen\", similar, 0.7)\n",
    "for w in words:\n",
    "    print(w, end=' ')"
   ]
  },
  {
   "cell_type": "code",
   "execution_count": 50,
   "metadata": {},
   "outputs": [
    {
     "name": "stdout",
     "output_type": "stream",
     "text": [
      "tamoxifin tamoxafin tamoxifan tomoxifen "
     ]
    }
   ],
   "source": [
    "# Best\n",
    "words = get_mispelling(\"tamoxifen\", similar, 0.75)\n",
    "for w in words:\n",
    "    print(w, end=' ')"
   ]
  },
  {
   "cell_type": "code",
   "execution_count": 51,
   "metadata": {},
   "outputs": [
    {
     "name": "stdout",
     "output_type": "stream",
     "text": [
      "tamoxifin tamoxifan tomoxifen "
     ]
    }
   ],
   "source": [
    "words = get_mispelling(\"tamoxifen\", similar, 0.8)\n",
    "for w in words:\n",
    "    print(w, end=' ')"
   ]
  },
  {
   "cell_type": "code",
   "execution_count": 53,
   "metadata": {},
   "outputs": [
    {
     "name": "stdout",
     "output_type": "stream",
     "text": [
      "tamoxifin tamoxifan tomoxifen "
     ]
    }
   ],
   "source": [
    "words = get_mispelling(\"tamoxifen\", similar, 0.85)\n",
    "for w in words:\n",
    "    print(w, end=' ')"
   ]
  }
 ],
 "metadata": {
  "kernelspec": {
   "display_name": "Python 3",
   "language": "python",
   "name": "python3"
  },
  "language_info": {
   "codemirror_mode": {
    "name": "ipython",
    "version": 3
   },
   "file_extension": ".py",
   "mimetype": "text/x-python",
   "name": "python",
   "nbconvert_exporter": "python",
   "pygments_lexer": "ipython3",
   "version": "3.7.6"
  }
 },
 "nbformat": 4,
 "nbformat_minor": 4
}
